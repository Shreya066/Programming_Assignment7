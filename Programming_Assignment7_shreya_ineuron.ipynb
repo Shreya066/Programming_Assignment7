{
 "cells": [
  {
   "cell_type": "markdown",
   "id": "bfc4f7e3",
   "metadata": {},
   "source": [
    "**1.\tWrite a Python Program to find sum of array?**"
   ]
  },
  {
   "cell_type": "code",
   "execution_count": 1,
   "id": "87dcbea3",
   "metadata": {},
   "outputs": [
    {
     "name": "stdout",
     "output_type": "stream",
     "text": [
      "Sum of the array =  636\n"
     ]
    }
   ],
   "source": [
    "array = [16,18,99,104,79,86,234]\n",
    "Outcome = sum(array)\n",
    "print('Sum of the array = ', Outcome)"
   ]
  },
  {
   "cell_type": "markdown",
   "id": "ce13470f",
   "metadata": {},
   "source": [
    "**2.\tWrite a Python Program to find largest element in an array?**"
   ]
  },
  {
   "cell_type": "code",
   "execution_count": 2,
   "id": "8d776e23",
   "metadata": {},
   "outputs": [
    {
     "name": "stdout",
     "output_type": "stream",
     "text": [
      "largest element in the array =  234\n"
     ]
    }
   ],
   "source": [
    "array = [16,18,99,104,79,86,234]\n",
    "print('largest element in the array = ', max(array))"
   ]
  },
  {
   "cell_type": "markdown",
   "id": "bcf9e2f0",
   "metadata": {},
   "source": [
    "**3.\tWrite a Python Program for array rotation?**"
   ]
  },
  {
   "cell_type": "code",
   "execution_count": 3,
   "id": "8e5d4cde",
   "metadata": {},
   "outputs": [
    {
     "name": "stdout",
     "output_type": "stream",
     "text": [
      "Enter the position from where you want to split- 2\n",
      "[99, 104, 79, 86, 234, 16, 18]\n"
     ]
    }
   ],
   "source": [
    "array = [16,18,99,104,79,86,234]\n",
    "n = int(input('Enter the position from where you want to split- '))\n",
    "n = n%(len(array))\n",
    "ans = array[n:]+array[:n]\n",
    "print(ans)"
   ]
  },
  {
   "cell_type": "markdown",
   "id": "7c747cdf",
   "metadata": {},
   "source": [
    "**4.\tWrite a Python Program to Split the array and add the first part to the end?**"
   ]
  },
  {
   "cell_type": "code",
   "execution_count": 4,
   "id": "510a3e1e",
   "metadata": {},
   "outputs": [
    {
     "name": "stdout",
     "output_type": "stream",
     "text": [
      "Enter the position from where you want to split- 3\n",
      "[104, 79, 86, 234, 16, 18, 99]\n"
     ]
    }
   ],
   "source": [
    "array = [16,18,99,104,79,86,234]\n",
    "n = int(input('Enter the position from where you want to split- '))\n",
    "ans = array[n:]+array[:n]\n",
    "print(ans)"
   ]
  },
  {
   "cell_type": "markdown",
   "id": "298da186",
   "metadata": {},
   "source": [
    "**5.\tWrite a Python Program to check if given array is Monotonic?**"
   ]
  },
  {
   "cell_type": "code",
   "execution_count": 5,
   "id": "42cbd10f",
   "metadata": {},
   "outputs": [
    {
     "name": "stdout",
     "output_type": "stream",
     "text": [
      "array is not monotonous\n"
     ]
    }
   ],
   "source": [
    "a = [3,6,8,9,6,4]\n",
    "b = sorted(a)\n",
    "c = sorted(a,reverse = True)\n",
    "if a == b or a == c:\n",
    "    print('array is monotonous')\n",
    "else:\n",
    "    print('array is not monotonous')"
   ]
  }
 ],
 "metadata": {
  "kernelspec": {
   "display_name": "Python 3 (ipykernel)",
   "language": "python",
   "name": "python3"
  },
  "language_info": {
   "codemirror_mode": {
    "name": "ipython",
    "version": 3
   },
   "file_extension": ".py",
   "mimetype": "text/x-python",
   "name": "python",
   "nbconvert_exporter": "python",
   "pygments_lexer": "ipython3",
   "version": "3.9.7"
  }
 },
 "nbformat": 4,
 "nbformat_minor": 5
}
